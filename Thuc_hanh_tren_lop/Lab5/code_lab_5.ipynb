{
 "cells": [
  {
   "cell_type": "markdown",
   "metadata": {},
   "source": [
    "# 5.1:"
   ]
  },
  {
   "cell_type": "code",
   "execution_count": 19,
   "metadata": {},
   "outputs": [
    {
     "name": "stdout",
     "output_type": "stream",
     "text": [
      "Đã in lần thứ : 1\n",
      "Đã in lần thứ : 2\n",
      "Đã in lần thứ : 3\n",
      "Đã in lần thứ : 4\n",
      "Đã in lần thứ : 5\n",
      "Đã in lần thứ : 6\n",
      "Đã in lần thứ : 7\n",
      "Đã in lần thứ : 8\n",
      "Đã in lần thứ : 9\n",
      "Đã in lần thứ : 10\n"
     ]
    }
   ],
   "source": [
    "import time \n",
    " \n",
    "class SimpleTask: \n",
    "    def run_task(self): \n",
    "        for i in range(1, 11): \n",
    "            print('Đã in lần thứ :',i) \n",
    "            time.sleep(2)  #Dừng 2 giây giữa mỗi lần in \n",
    " \n",
    "def main(): \n",
    "    task = SimpleTask()  \n",
    "    task.run_task() \n",
    " \n",
    "if __name__ == \"__main__\": \n",
    "    main() "
   ]
  },
  {
   "cell_type": "markdown",
   "metadata": {},
   "source": [
    "# 5.2:"
   ]
  },
  {
   "cell_type": "code",
   "execution_count": 20,
   "metadata": {},
   "outputs": [
    {
     "name": "stdout",
     "output_type": "stream",
     "text": [
      "Đã in lần thứ : 1\n",
      "Đã in lần thứ : 1\n",
      "Đã in lần thứ : 1\n",
      "Đã in lần thứ : 1\n",
      "Đã in lần thứ : 2\n",
      "Đã in lần thứ : 2\n",
      "Đã in lần thứ : 2\n",
      "Đã in lần thứ : 2\n",
      "Đã in lần thứ : 3\n",
      "Đã in lần thứ : 3\n",
      "Đã in lần thứ : 3\n",
      "Đã in lần thứ : 3\n"
     ]
    }
   ],
   "source": [
    "import threading \n",
    "import time \n",
    " \n",
    "class SimpleTask: \n",
    "    def run_task(self): \n",
    "        for i in range(1, 4): \n",
    "            print('Đã in lần thứ :',i) \n",
    "            time.sleep(1) \n",
    "def main(): \n",
    "    #Tạo và khởi chạy nhiều threads \n",
    "    tasks = [threading.Thread(target=SimpleTask().run_task) for _ in range(4)] \n",
    "    for task in tasks: \n",
    "        task.start() \n",
    "    for task in tasks: \n",
    "        task.join() \n",
    " \n",
    "if __name__ == \"__main__\": \n",
    "    main()"
   ]
  },
  {
   "cell_type": "markdown",
   "metadata": {},
   "source": [
    "# 5.3.1:"
   ]
  },
  {
   "cell_type": "code",
   "execution_count": 17,
   "metadata": {},
   "outputs": [
    {
     "name": "stdout",
     "output_type": "stream",
     "text": [
      "Counter đã tăng lên: 1Counter đã tăng lên: 2\n",
      "Counter đã tăng lên: 3\n",
      "Counter đã tăng lên: 4\n",
      "\n",
      "Counter đã tăng lên: 5Counter đã tăng lên: 6\n",
      "Counter đã tăng lên: 7\n",
      "Counter đã tăng lên: 8\n",
      "\n",
      "Counter đã tăng lên: 9\n",
      "Counter đã tăng lên: 10\n",
      "Counter đã tăng lên: 11\n",
      "Counter đã tăng lên: 12\n",
      "Counter đã tăng lên: 13Counter đã tăng lên: 14\n",
      "Counter đã tăng lên: 15\n",
      "Counter đã tăng lên: 16\n",
      "\n"
     ]
    }
   ],
   "source": [
    "import threading\n",
    "import time\n",
    "\n",
    "#Khởi tạo biến counter toàn cục\n",
    "counter = 0\n",
    "\n",
    "class SimpleTask:\n",
    "\n",
    "    def run_task(self):\n",
    "        global counter\n",
    "\n",
    "        for _ in range(4):\n",
    "            time.sleep(2)\n",
    "            counter += 1  #Tăng counter mà không sử dụng lock\n",
    "            print(f\"Counter đã tăng lên: {counter}\")\n",
    "\n",
    "def main():\n",
    "    tasks = [threading.Thread(target=SimpleTask().run_task) for _ in range(4)]\n",
    "\n",
    "    for task in tasks:\n",
    "        task.start()\n",
    "\n",
    "    for task in tasks:\n",
    "        task.join()\n",
    "\n",
    "if __name__ == \"__main__\":\n",
    "    main()\n"
   ]
  },
  {
   "cell_type": "markdown",
   "metadata": {},
   "source": [
    "# 5.3.2:"
   ]
  },
  {
   "cell_type": "code",
   "execution_count": 18,
   "metadata": {},
   "outputs": [
    {
     "name": "stdout",
     "output_type": "stream",
     "text": [
      "Counter đã tăng lên: 1\n",
      "Counter đã tăng lên: 2\n",
      "Counter đã tăng lên: 3\n",
      "Counter đã tăng lên: 4\n",
      "Counter đã tăng lên: 5\n",
      "Counter đã tăng lên: 6\n",
      "Counter đã tăng lên: 7\n",
      "Counter đã tăng lên: 8\n",
      "Counter đã tăng lên: 9\n",
      "Counter đã tăng lên: 10\n",
      "Counter đã tăng lên: 11\n",
      "Counter đã tăng lên: 12\n"
     ]
    }
   ],
   "source": [
    "import threading \n",
    "import time \n",
    " \n",
    "counter = 0 \n",
    "counter_lock = threading.Lock() \n",
    " \n",
    "class SimpleTask: \n",
    "    def run_task(self): \n",
    "        global counter \n",
    "        for _ in range(3): \n",
    "            time.sleep(2) \n",
    "            with counter_lock: \n",
    "                counter += 1 \n",
    "                print(f\"Counter đã tăng lên: {counter}\") \n",
    " \n",
    "def main(): \n",
    "    tasks = [threading.Thread(target=SimpleTask().run_task) for _ in range(4)] \n",
    "    for task in tasks: \n",
    "        task.start() \n",
    "    for task in tasks: \n",
    "        task.join() \n",
    " \n",
    "if __name__ == \"__main__\": \n",
    "    main() "
   ]
  }
 ],
 "metadata": {
  "kernelspec": {
   "display_name": "Python 3",
   "language": "python",
   "name": "python3"
  },
  "language_info": {
   "codemirror_mode": {
    "name": "ipython",
    "version": 3
   },
   "file_extension": ".py",
   "mimetype": "text/x-python",
   "name": "python",
   "nbconvert_exporter": "python",
   "pygments_lexer": "ipython3",
   "version": "3.13.0"
  }
 },
 "nbformat": 4,
 "nbformat_minor": 2
}
