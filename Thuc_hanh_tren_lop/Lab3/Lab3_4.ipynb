{
 "cells": [
  {
   "cell_type": "code",
   "execution_count": 28,
   "metadata": {},
   "outputs": [],
   "source": [
    "import pandas as pd"
   ]
  },
  {
   "cell_type": "code",
   "execution_count": 29,
   "metadata": {},
   "outputs": [],
   "source": [
    "#Đọc file csv:\n",
    "companies = pd.read_csv('C:/Users/SURFACE/Desktop/Uneti/Ki 3/LTPY/Thuc_hanh/Lab3/DATA/companies.csv')"
   ]
  },
  {
   "cell_type": "code",
   "execution_count": null,
   "metadata": {},
   "outputs": [],
   "source": [
    "#Hiển thị 5 dòng đầu tiên của companies\n",
    "print(companies.head())"
   ]
  },
  {
   "cell_type": "code",
   "execution_count": null,
   "metadata": {},
   "outputs": [],
   "source": [
    "# Kết hợp hai DataFrame theo cột 'symbol'\n",
    "combined_data = pd.merge(stocks, companies, on='symbol', how='inner')"
   ]
  },
  {
   "cell_type": "code",
   "execution_count": null,
   "metadata": {},
   "outputs": [],
   "source": [
    "#Tính giá đóng cửa trung bình cho mỗi công ty\n",
    "avg_close_per_company = combined_data.groupby('symbol')['close'].mean()\n",
    "\n",
    "#Hiển thị kết quả cho 5 công ty đầu tiên\n",
    "print(avg_close_per_company.head())"
   ]
  }
 ],
 "metadata": {
  "kernelspec": {
   "display_name": "base",
   "language": "python",
   "name": "python3"
  },
  "language_info": {
   "codemirror_mode": {
    "name": "ipython",
    "version": 3
   },
   "file_extension": ".py",
   "mimetype": "text/x-python",
   "name": "python",
   "nbconvert_exporter": "python",
   "pygments_lexer": "ipython3",
   "version": "3.12.7"
  }
 },
 "nbformat": 4,
 "nbformat_minor": 2
}
