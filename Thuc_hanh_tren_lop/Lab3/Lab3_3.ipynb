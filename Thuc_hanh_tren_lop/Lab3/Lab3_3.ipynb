{
 "cells": [
  {
   "cell_type": "code",
   "execution_count": 45,
   "metadata": {},
   "outputs": [],
   "source": [
    "import pandas as pd"
   ]
  },
  {
   "cell_type": "code",
   "execution_count": 46,
   "metadata": {},
   "outputs": [],
   "source": [
    "#Đọc file stocks2.csv:\n",
    "stocks2 = pd.read_csv('C:/Users/SURFACE/Desktop/Uneti/Ki 3/LTPY/Thuc_hanh/Lab3/DATA/stocks2.csv')"
   ]
  },
  {
   "cell_type": "code",
   "execution_count": 47,
   "metadata": {},
   "outputs": [],
   "source": [
    "#Gộp hai DataFrame theo index (hoặc theo cột chung nếu có):\n",
    "stocks = pd.concat([stocks1, stocks2], ignore_index=True)"
   ]
  },
  {
   "cell_type": "code",
   "execution_count": 48,
   "metadata": {},
   "outputs": [
    {
     "name": "stdout",
     "output_type": "stream",
     "text": [
      "open     692.067200\n",
      "high     633.469904\n",
      "low      620.541304\n",
      "close    689.306000\n",
      "dtype: float64\n"
     ]
    }
   ],
   "source": [
    "#Tính giá trung bình cho các cột 'open', 'high', 'low', 'close':\n",
    "average_prices = stocks[['open', 'high', 'low', 'close']].mean()\n",
    "\n",
    "print(average_prices)"
   ]
  },
  {
   "cell_type": "code",
   "execution_count": 49,
   "metadata": {},
   "outputs": [
    {
     "name": "stdout",
     "output_type": "stream",
     "text": [
      "       date symbol     open     high      low    close   volume\n",
      "0  01-03-19   AMZN  1655.13  1674.26  1651.00  1671.73  4974877\n",
      "1  04-03-19   AMZN  1685.00  1709.43  1674.36  1696.17  6167358\n",
      "2  05-03-19   AMZN  1702.95  1707.80  1689.01  1692.43  3681522\n",
      "3  06-03-19   AMZN  1695.97      NaN      NaN  1668.95  3996001\n",
      "4  07-03-19   AMZN  1667.37  1669.75  1620.51  1625.95  4957017\n"
     ]
    }
   ],
   "source": [
    "#Hiển thị 5 dòng đầu tiên của DataFrame sau khi gộp:\n",
    "print(stocks.head())"
   ]
  }
 ],
 "metadata": {
  "language_info": {
   "name": "python"
  }
 },
 "nbformat": 4,
 "nbformat_minor": 2
}
