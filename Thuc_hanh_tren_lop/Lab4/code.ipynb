{
 "cells": [
  {
   "cell_type": "markdown",
   "metadata": {},
   "source": [
    "# Tạo và kết nối với CSDL:"
   ]
  },
  {
   "cell_type": "code",
   "execution_count": 53,
   "metadata": {},
   "outputs": [],
   "source": [
    "import sqlite3\n",
    "\n",
    "# Kết nối đến cơ sở dữ liệu (nếu không có sẽ tạo mới)\n",
    "conn = sqlite3.connect('product.db')\n",
    "cursor = conn.cursor()\n",
    "\n",
    "# Tạo bảng sản phẩm (nếu chưa có)\n",
    "cursor.execute('''\n",
    "CREATE TABLE IF NOT EXISTS product (\n",
    "    id INTEGER PRIMARY KEY AUTOINCREMENT,\n",
    "    name TEXT NOT NULL,\n",
    "    price REAL NOT NULL,\n",
    "    amount INTEGER NOT NULL\n",
    ")\n",
    "''')\n",
    "conn.commit()"
   ]
  },
  {
   "cell_type": "markdown",
   "metadata": {},
   "source": [
    "# Hiển thị danh sách sản phẩm:"
   ]
  },
  {
   "cell_type": "code",
   "execution_count": 54,
   "metadata": {},
   "outputs": [],
   "source": [
    "def show_products():\n",
    "    cursor.execute(\"SELECT * FROM product\")\n",
    "    products = cursor.fetchall()\n",
    "    if not products:\n",
    "        print(\"Không có sản phẩm nào\")\n",
    "    else:\n",
    "        print(f\"{'ID':<5} {'Tên sản phẩm':<20} {'Giá':<10} {'Số lượng':<10}\")\n",
    "        for product in products:\n",
    "            print(f\"{product[0]:<5} {product[1]:<20} {product[2]:<10} {product[3]:<10}\")"
   ]
  },
  {
   "cell_type": "markdown",
   "metadata": {},
   "source": [
    "# Thêm sản phẩm mới:"
   ]
  },
  {
   "cell_type": "code",
   "execution_count": 55,
   "metadata": {},
   "outputs": [],
   "source": [
    "def add_product():\n",
    "    name = input(\"Nhập tên sản phẩm: \")\n",
    "    price = float(input(\"Nhập giá sản phẩm: \"))\n",
    "    amount = int(input(\"Nhập số lượng sản phẩm: \"))\n",
    "    \n",
    "    cursor.execute(\"INSERT INTO product (name, price, amount) VALUES (?, ?, ?)\", (name, price, amount))\n",
    "    conn.commit()\n",
    "    print(\"Sản phẩm đã được thêm thành công!\")"
   ]
  },
  {
   "cell_type": "markdown",
   "metadata": {},
   "source": [
    "# Tìm kiếm sản phẩm theo tên:"
   ]
  },
  {
   "cell_type": "code",
   "execution_count": 56,
   "metadata": {},
   "outputs": [],
   "source": [
    "def search_product():\n",
    "    name = input(\"Nhập tên sản phẩm cần tìm: \")\n",
    "    cursor.execute(\"SELECT * FROM product WHERE name LIKE ?\", ('%' + name + '%',))\n",
    "    products = cursor.fetchall()\n",
    "    \n",
    "    if not products:\n",
    "        print(\"Không tìm thấy sản phẩm nào\")\n",
    "    else:\n",
    "        print(f\"{'ID':<5} {'Tên sản phẩm':<20} {'Giá':<10} {'Số Lượng':<10}\")\n",
    "        for product in products:\n",
    "            print(f\"{product[0]:<5} {product[1]:<20} {product[2]:<10} {product[3]:<10}\")"
   ]
  },
  {
   "cell_type": "markdown",
   "metadata": {},
   "source": [
    "# Cập nhật thông tin sản phẩm:"
   ]
  },
  {
   "cell_type": "code",
   "execution_count": 57,
   "metadata": {},
   "outputs": [],
   "source": [
    "def update_product():\n",
    "    product_id = int(input(\"Nhập ID sản phẩm cần cập nhật: \"))\n",
    "    new_price = float(input(\"Nhập giá mới của sản phẩm: \"))\n",
    "    new_amount = int(input(\"Nhập số lượng mới của sản phẩm: \"))\n",
    "    \n",
    "    cursor.execute(\"UPDATE product SET price = ?, amount = ? WHERE id = ?\", (new_price, new_amount, product_id))\n",
    "    conn.commit()\n",
    "    print(\"Thông tin sản phẩm đã được cập nhật.\")"
   ]
  },
  {
   "cell_type": "markdown",
   "metadata": {},
   "source": [
    "# Xóa sản phẩm:"
   ]
  },
  {
   "cell_type": "code",
   "execution_count": 58,
   "metadata": {},
   "outputs": [],
   "source": [
    "def delete_product():\n",
    "    product_id = int(input(\"Nhập ID sản phẩm cần xóa: \"))\n",
    "    cursor.execute(\"DELETE FROM product WHERE id = ?\", (product_id,))\n",
    "    conn.commit()\n",
    "    print(\"Sản phẩm đã bị xóa\")"
   ]
  },
  {
   "cell_type": "markdown",
   "metadata": {},
   "source": [
    "# Menu giao diện console:"
   ]
  },
  {
   "cell_type": "code",
   "execution_count": 59,
   "metadata": {},
   "outputs": [
    {
     "name": "stdout",
     "output_type": "stream",
     "text": [
      "\n",
      "----- Quản lý sản phẩm -----\n",
      "1. Hiển thị danh sách sản phẩm\n",
      "2. Thêm sản phẩm mới\n",
      "3. Tìm Kiếm sản phẩm Theo Tên\n",
      "4. Cập Nhật Thông Tin sản phẩm\n",
      "5. Xóa sản phẩm\n",
      "6. Thoát\n",
      "ID    Tên sản phẩm         Giá        Số lượng  \n",
      "4     A                    10000.0    1         \n",
      "5     B                    20000.0    2         \n",
      "6     C                    30000.0    3         \n",
      "7     D                    40000.0    4         \n",
      "\n",
      "----- Quản lý sản phẩm -----\n",
      "1. Hiển thị danh sách sản phẩm\n",
      "2. Thêm sản phẩm mới\n",
      "3. Tìm Kiếm sản phẩm Theo Tên\n",
      "4. Cập Nhật Thông Tin sản phẩm\n",
      "5. Xóa sản phẩm\n",
      "6. Thoát\n",
      "Sản phẩm đã được thêm thành công!\n",
      "\n",
      "----- Quản lý sản phẩm -----\n",
      "1. Hiển thị danh sách sản phẩm\n",
      "2. Thêm sản phẩm mới\n",
      "3. Tìm Kiếm sản phẩm Theo Tên\n",
      "4. Cập Nhật Thông Tin sản phẩm\n",
      "5. Xóa sản phẩm\n",
      "6. Thoát\n",
      "ID    Tên sản phẩm         Giá        Số lượng  \n",
      "4     A                    10000.0    1         \n",
      "5     B                    20000.0    2         \n",
      "6     C                    30000.0    3         \n",
      "7     D                    40000.0    4         \n",
      "8     E                    50000.0    5         \n",
      "\n",
      "----- Quản lý sản phẩm -----\n",
      "1. Hiển thị danh sách sản phẩm\n",
      "2. Thêm sản phẩm mới\n",
      "3. Tìm Kiếm sản phẩm Theo Tên\n",
      "4. Cập Nhật Thông Tin sản phẩm\n",
      "5. Xóa sản phẩm\n",
      "6. Thoát\n",
      "Thoát chương trình.\n"
     ]
    }
   ],
   "source": [
    "def main():\n",
    "    while True:\n",
    "        print(\"\\n----- Quản lý sản phẩm -----\")\n",
    "        print(\"1. Hiển thị danh sách sản phẩm\")\n",
    "        print(\"2. Thêm sản phẩm mới\")\n",
    "        print(\"3. Tìm Kiếm sản phẩm Theo Tên\")\n",
    "        print(\"4. Cập Nhật Thông Tin sản phẩm\")\n",
    "        print(\"5. Xóa sản phẩm\")\n",
    "        print(\"6. Thoát\")\n",
    "        \n",
    "        choice = input(\"Chọn chức năng: \")\n",
    "        \n",
    "        if choice == '1':\n",
    "            show_products()\n",
    "        elif choice == '2':\n",
    "            add_product()\n",
    "        elif choice == '3':\n",
    "            search_product()\n",
    "        elif choice == '4':\n",
    "            update_product()\n",
    "        elif choice == '5':\n",
    "            delete_product()\n",
    "        elif choice == '6':\n",
    "            print(\"Thoát chương trình.\")\n",
    "            break\n",
    "        else:\n",
    "            print(\"Lựa chọn không hợp lệ. Vui lòng chọn lại.\")\n",
    "            \n",
    "# Chạy chương trình\n",
    "main()\n",
    "\n",
    "# Đóng kết nối cơ sở dữ liệu khi thoát\n",
    "conn.close()"
   ]
  }
 ],
 "metadata": {
  "kernelspec": {
   "display_name": "base",
   "language": "python",
   "name": "python3"
  },
  "language_info": {
   "codemirror_mode": {
    "name": "ipython",
    "version": 3
   },
   "file_extension": ".py",
   "mimetype": "text/x-python",
   "name": "python",
   "nbconvert_exporter": "python",
   "pygments_lexer": "ipython3",
   "version": "3.12.7"
  }
 },
 "nbformat": 4,
 "nbformat_minor": 2
}
