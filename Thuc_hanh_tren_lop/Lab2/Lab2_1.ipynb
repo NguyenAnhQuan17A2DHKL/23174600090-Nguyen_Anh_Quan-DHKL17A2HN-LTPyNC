{
 "cells": [
  {
   "cell_type": "markdown",
   "metadata": {},
   "source": [
    "1: Tạo dữ liệu mô phỏng nhiệt độ:"
   ]
  },
  {
   "cell_type": "code",
   "execution_count": 10,
   "metadata": {},
   "outputs": [
    {
     "name": "stdout",
     "output_type": "stream",
     "text": [
      "Dữ liệu nhiệt độ: [22.49 34.01 29.64 26.97 18.12 18.12 16.16 32.32 27.02 29.16 15.41 34.4\n",
      " 31.65 19.25 18.64 18.67 21.08 25.5  23.64 20.82 27.24 17.79 20.84 22.33\n",
      " 24.12 30.7  18.99 25.28 26.85 15.93]\n",
      "Nhiệt độ trung bình: 23.771333333333335\n"
     ]
    }
   ],
   "source": [
    "import numpy as np\n",
    "\n",
    "np.random.seed(42)  #Để đảm bảo kết quả có thể tái tạo\n",
    "nhiet_do = np.random.uniform(15, 35, size=30).round(2)  #Tạo mảng 30 phần tử, nhiệt độ từ 15-35 độ C\n",
    "print(\"Dữ liệu nhiệt độ:\", nhiet_do)\n",
    "\n",
    "#Tính nhiệt độ trung bình:\n",
    "nhiet_do_tb = np.mean(nhiet_do)\n",
    "print(\"Nhiệt độ trung bình:\", nhiet_do_tb)"
   ]
  },
  {
   "cell_type": "markdown",
   "metadata": {},
   "source": [
    "2: Phân tích xu hướng nhiệt độ:"
   ]
  },
  {
   "cell_type": "code",
   "execution_count": 11,
   "metadata": {},
   "outputs": [
    {
     "name": "stdout",
     "output_type": "stream",
     "text": [
      "Ngày có nhiệt độ cao nhất: 12 với nhiệt độ 34.4\n",
      "Ngày có nhiệt độ thấp nhất: 11 với nhiệt độ 15.41\n",
      "Ngày có sự biến đổi nhiệt độ cao nhất: 11\n"
     ]
    }
   ],
   "source": [
    "import numpy as np\n",
    "\n",
    "nhiet_do_cao_nhat = np.max(nhiet_do)\n",
    "nhiet_do_thap_nhat = np.min(nhiet_do)\n",
    "nhiet_do_cao_nhat_day = np.argmax(nhiet_do) + 1  #Cộng 1 vì mảng bắt đầu từ 0\n",
    "nhiet_do_thap_nhat_day = np.argmin(nhiet_do) + 1\n",
    "print(\"Ngày có nhiệt độ cao nhất:\", nhiet_do_cao_nhat_day, \"với nhiệt độ\", nhiet_do_cao_nhat)\n",
    "print(\"Ngày có nhiệt độ thấp nhất:\", nhiet_do_thap_nhat_day, \"với nhiệt độ\", nhiet_do_thap_nhat)\n",
    "\n",
    "#Tính chênh lệch nhiệt độ giữa các ngày:\n",
    "nd_diff = np.diff(nhiet_do)\n",
    "bien_doi_nhiet_do = np.argmax(nd_diff) + 1\n",
    "print(\"Ngày có sự biến đổi nhiệt độ cao nhất:\", bien_doi_nhiet_do)"
   ]
  },
  {
   "cell_type": "markdown",
   "metadata": {},
   "source": [
    "3: Áp dụng fancy indexing:"
   ]
  },
  {
   "cell_type": "code",
   "execution_count": 12,
   "metadata": {},
   "outputs": [
    {
     "name": "stdout",
     "output_type": "stream",
     "text": [
      "Các ngày có nhiệt độ trên 20 độ C: [22.49 34.01 29.64 26.97 32.32 27.02 29.16 34.4  31.65 21.08 25.5  23.64\n",
      " 20.82 27.24 20.84 22.33 24.12 30.7  25.28 26.85]\n",
      "Nhiệt độ của các ngày 5, 10, 15, 20, 25: [18.12 29.16 18.64 20.82 24.12]\n",
      "Nhiệt độ của các ngày trên trung bình: [34.01 29.64 26.97 32.32 27.02 29.16 34.4  31.65 25.5  27.24 24.12 30.7\n",
      " 25.28 26.85]\n",
      "Nhiệt độ của các ngày chẵn: [22.49 29.64 18.12 16.16 27.02 15.41 31.65 18.64 21.08 23.64 27.24 20.84\n",
      " 24.12 18.99 26.85]\n",
      "Nhiệt độ của các ngày lẻ: [34.01 26.97 18.12 32.32 29.16 34.4  19.25 18.67 25.5  20.82 17.79 22.33\n",
      " 30.7  25.28 15.93]\n"
     ]
    }
   ],
   "source": [
    "import numpy as np\n",
    "\n",
    "#Ngày có nhiệt độ cao hơn 20 độ C:\n",
    "ngay_nong = nhiet_do[nhiet_do > 20]\n",
    "print(\"Các ngày có nhiệt độ trên 20 độ C:\", ngay_nong)\n",
    "\n",
    "#Nhiệt độ của ngày 5, 10, 15, 20, 25:\n",
    "cac_ngay = [4, 9, 14, 19, 24]  #Trừ 1 vì mảng bắt đầu từ 0\n",
    "temps_cac_ngay = nhiet_do[cac_ngay]\n",
    "print(\"Nhiệt độ của các ngày 5, 10, 15, 20, 25:\", temps_cac_ngay)\n",
    "\n",
    "#Nhiệt độ của các ngày có nhiệt độ trên trung bình:\n",
    "nd_cac_ngay_tren_tb = nhiet_do[nhiet_do > nhiet_do_tb]\n",
    "print(\"Nhiệt độ của các ngày trên trung bình:\", nd_cac_ngay_tren_tb)\n",
    "\n",
    "#Nhiệt độ của các ngày chẵn/lẻ:\n",
    "ngay_chan = nhiet_do[::2]  #Lấy các phần tử bắt đầu từ 0, bước nhảy là 2\n",
    "ngay_le = nhiet_do[1::2]  #Lấy các phần tử bắt đầu từ 1, bước nhảy là 2\n",
    "print(\"Nhiệt độ của các ngày chẵn:\", ngay_chan)\n",
    "print(\"Nhiệt độ của các ngày lẻ:\", ngay_le)"
   ]
  }
 ],
 "metadata": {
  "kernelspec": {
   "display_name": "base",
   "language": "python",
   "name": "python3"
  },
  "language_info": {
   "codemirror_mode": {
    "name": "ipython",
    "version": 3
   },
   "file_extension": ".py",
   "mimetype": "text/x-python",
   "name": "python",
   "nbconvert_exporter": "python",
   "pygments_lexer": "ipython3",
   "version": "3.12.7"
  }
 },
 "nbformat": 4,
 "nbformat_minor": 2
}
