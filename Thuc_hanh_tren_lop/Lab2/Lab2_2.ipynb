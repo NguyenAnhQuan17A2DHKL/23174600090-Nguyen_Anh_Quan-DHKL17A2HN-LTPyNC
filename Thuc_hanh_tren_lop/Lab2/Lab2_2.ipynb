{
 "cells": [
  {
   "cell_type": "markdown",
   "metadata": {},
   "source": [
    "1. Đọc Dữ Liệu Từ File CSV:"
   ]
  },
  {
   "cell_type": "code",
   "execution_count": 9,
   "metadata": {},
   "outputs": [
    {
     "name": "stdout",
     "output_type": "stream",
     "text": [
      "[['id', 'Tên sinh viên', 'HP 1', 'HP 2', 'HP 3'], ['1', 'Nguyễn Văn Bình', '3.04', '3.39', '6.7'], ['2', 'Lê Thị Na', '5.8', '6.41', '6.62'], ['3', 'Trần Văn Thành', '2.59', '3.57', '9.16'], ['4', 'Phạm Thị Hồng', '3.81', '8.78', '9.24'], ['5', 'Bùi Văn An', '8.91', '9.64', '6.39'], ['6', 'Hoàng Thị Lan', '3.23', '4.72', '6.17'], ['7', 'Vũ Văn Hùng', '2.35', '3.29', '6.89'], ['8', 'Đặng Thị Mai', '2.48', '3.81', '4.84'], ['9', 'Đỗ Văn Hải', '3.23', '2.61', '4.52'], ['10', 'Ngô Thị Thanh', '7.02', '9.01', '9.15'], ['11', 'Lương Văn Dũng', '2.29', '4.48', '5.51'], ['12', 'Mai Thị Hằng', '3.51', '7.19', '5.13'], ['13', 'Dương Văn Long', '6.74', '7.78', '6.19'], ['14', 'Nguyễn Thị Hà', '9.86', '4.64', '3.33'], ['15', 'Trần Văn Tuấn', '8.04', '5.12', '4.77'], ['16', 'Lê Văn Phúc', '2.74', '8.88', '5.8'], ['17', 'Phạm Thị Nhung', '3.04', '6.88', '3.91'], ['18', 'Hoàng Văn Nam', '5.87', '4.41', '8.84'], ['19', 'Bùi Thị Lan', '8.46', '2.63', '4.91'], ['20', 'Vũ Thị Thanh', '3.74', '6.71', '3.44'], ['21', 'Đặng Văn Hùng', '5.67', '8.05', '6.03'], ['22', 'Đỗ Thị Hồng', '8.12', '2.46', '3.87'], ['23', 'Ngô Văn Thành', '9.4', '5.31', '5.13'], ['24', 'Lương Thị Mai', '3.91', '5.09', '8.82'], ['25', 'Mai Văn Dũng', '4.26', '5.78', '8.14'], ['26', 'Dương Thị Hằng', '4.41', '2.66', '5.4'], ['27', 'Nguyễn Văn Long', '3.23', '8.3', '8.64'], ['28', 'Trần Thị Hà', '9.25', '8.29', '9.1'], ['29', 'Lê Văn Tuấn', '6.08', '2.67', '6.39'], ['30', 'Phạm Thị Phúc', '3.85', '7.71', '5.75']]\n",
      "(30, 5)\n"
     ]
    }
   ],
   "source": [
    "import numpy as np\n",
    "import csv\n",
    "\n",
    "#Đọc dữ liệu từ file CSV:\n",
    "filename = r'C:\\Users\\SURFACE\\Desktop\\Uneti\\Ki 3\\LTPY\\Thuc_hanh\\Lab2\\DATA\\diem_hoc_phan.csv'\n",
    "\n",
    "#Mở và đọc dữ liệu từ file CSV:\n",
    "with open(filename, newline='', encoding='utf-8') as csvfile:\n",
    "    reader = csv.reader(csvfile)\n",
    "    data = list(reader)\n",
    "\n",
    "#Hiển thị dữ liệu để kiểm tra:\n",
    "print(data[:31])\n",
    "\n",
    "#Chuyển đổi dữ liệu thành mảng NumPy (Bỏ qua header):\n",
    "header = data[0]\n",
    "data_np = np.array(data[1:], dtype=object)\n",
    "\n",
    "#Kiểm tra kiểu dữ liệu và kích thước mảng NumPy:\n",
    "print(data_np.shape)\n"
   ]
  },
  {
   "cell_type": "markdown",
   "metadata": {},
   "source": [
    "2. Chuyển đổi Điểm Số Sang Điểm Tín Chỉ"
   ]
  },
  {
   "cell_type": "code",
   "execution_count": 10,
   "metadata": {},
   "outputs": [
    {
     "name": "stdout",
     "output_type": "stream",
     "text": [
      "HP1 - Tổng: 154.92999999999998, Trung bình: 5.1643333333333326, Độ lệch chuẩn: 2.4078519934211533\n",
      "HP2 - Tổng: 170.27, Trung bình: 5.675666666666667, Độ lệch chuẩn: 2.2494765070023637\n",
      "HP3 - Tổng: 188.78, Trung bình: 6.292666666666666, Độ lệch chuẩn: 1.8082292135923723\n",
      "\n",
      "Phân tích điểm theo học phần HP1:\n",
      "A: 4 sinh viên\n",
      "B: 1 sinh viên\n",
      "B+: 3 sinh viên\n",
      "C: 4 sinh viên\n",
      "C+: 1 sinh viên\n",
      "D: 2 sinh viên\n",
      "F: 15 sinh viên\n",
      "\n",
      "Phân tích điểm theo học phần HP2:\n",
      "A: 4 sinh viên\n",
      "B: 3 sinh viên\n",
      "B+: 3 sinh viên\n",
      "C: 2 sinh viên\n",
      "C+: 2 sinh viên\n",
      "D: 4 sinh viên\n",
      "D+: 3 sinh viên\n",
      "F: 9 sinh viên\n",
      "\n",
      "Phân tích điểm theo học phần HP3:\n",
      "A: 7 sinh viên\n",
      "B+: 1 sinh viên\n",
      "C: 8 sinh viên\n",
      "C+: 3 sinh viên\n",
      "D: 4 sinh viên\n",
      "D+: 3 sinh viên\n",
      "F: 4 sinh viên\n"
     ]
    }
   ],
   "source": [
    "import numpy as pd\n",
    "\n",
    "#Chuyển các điểm số thành mảng NumPy và đưa về float:\n",
    "hp1_scores = data_np[:, 2].astype(float)\n",
    "hp2_scores = data_np[:, 3].astype(float)\n",
    "hp3_scores = data_np[:, 4].astype(float)\n",
    "\n",
    "#Hàm chuyển đổi điểm thành điểm chữ (hoặc tín chỉ):\n",
    "def convert_to_grade(score):\n",
    "    if 8.5 <= score <= 10:\n",
    "        return 'A'\n",
    "    elif 8.0 <= score < 8.5:\n",
    "        return 'B+'\n",
    "    elif 7.0 <= score < 8.0:\n",
    "        return 'B'\n",
    "    elif 6.5 <= score < 7.0:\n",
    "        return 'C+'\n",
    "    elif 5.5 <= score < 6.5:\n",
    "        return 'C'\n",
    "    elif 5.0 <= score < 5.5:\n",
    "        return 'D+'\n",
    "    elif 4.0 <= score < 5.0:\n",
    "        return 'D'\n",
    "    else:\n",
    "        return 'F'\n",
    "\n",
    "#Áp dụng hàm convert_to_grade cho các điểm trong mảng NumPy:\n",
    "grades_hp1 = np.vectorize(convert_to_grade)(hp1_scores)\n",
    "grades_hp2 = np.vectorize(convert_to_grade)(hp2_scores)\n",
    "grades_hp3 = np.vectorize(convert_to_grade)(hp3_scores)\n",
    "\n",
    "#Phân tích dữ liệu theo học phần:\n",
    "hp1_sum = np.sum(hp1_scores)\n",
    "hp1_mean = np.mean(hp1_scores)\n",
    "hp1_std = np.std(hp1_scores)\n",
    "\n",
    "hp2_sum = np.sum(hp2_scores)\n",
    "hp2_mean = np.mean(hp2_scores)\n",
    "hp2_std = np.std(hp2_scores)\n",
    "\n",
    "hp3_sum = np.sum(hp3_scores)\n",
    "hp3_mean = np.mean(hp3_scores)\n",
    "hp3_std = np.std(hp3_scores)\n",
    "\n",
    "#In kết quả phân tích theo học phần:\n",
    "print(f\"HP1 - Tổng: {hp1_sum}, Trung bình: {hp1_mean}, Độ lệch chuẩn: {hp1_std}\")\n",
    "print(f\"HP2 - Tổng: {hp2_sum}, Trung bình: {hp2_mean}, Độ lệch chuẩn: {hp2_std}\")\n",
    "print(f\"HP3 - Tổng: {hp3_sum}, Trung bình: {hp3_mean}, Độ lệch chuẩn: {hp3_std}\")\n",
    "\n",
    "#Phân tích điểm tổng hợp cho từng học phần (theo điểm chữ):\n",
    "unique_grades_hp1, grade_counts_hp1 = np.unique(grades_hp1, return_counts=True)\n",
    "unique_grades_hp2, grade_counts_hp2 = np.unique(grades_hp2, return_counts=True)\n",
    "unique_grades_hp3, grade_counts_hp3 = np.unique(grades_hp3, return_counts=True)\n",
    "\n",
    "print(\"\\nPhân tích điểm theo học phần HP1:\")\n",
    "for grade, count in zip(unique_grades_hp1, grade_counts_hp1):\n",
    "    print(f\"{grade}: {count} sinh viên\")\n",
    "\n",
    "print(\"\\nPhân tích điểm theo học phần HP2:\")\n",
    "for grade, count in zip(unique_grades_hp2, grade_counts_hp2):\n",
    "    print(f\"{grade}: {count} sinh viên\")\n",
    "\n",
    "print(\"\\nPhân tích điểm theo học phần HP3:\")\n",
    "for grade, count in zip(unique_grades_hp3, grade_counts_hp3):\n",
    "    print(f\"{grade}: {count} sinh viên\")"
   ]
  }
 ],
 "metadata": {
  "kernelspec": {
   "display_name": "base",
   "language": "python",
   "name": "python3"
  },
  "language_info": {
   "codemirror_mode": {
    "name": "ipython",
    "version": 3
   },
   "file_extension": ".py",
   "mimetype": "text/x-python",
   "name": "python",
   "nbconvert_exporter": "python",
   "pygments_lexer": "ipython3",
   "version": "3.12.7"
  }
 },
 "nbformat": 4,
 "nbformat_minor": 2
}
